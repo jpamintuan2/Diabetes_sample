{
 "cells": [
  {
   "cell_type": "code",
   "execution_count": 1,
   "metadata": {},
   "outputs": [],
   "source": [
    "# Standard includes\n",
    "%matplotlib inline\n",
    "import numpy as np\n",
    "import matplotlib\n",
    "import matplotlib.pyplot as plt\n",
    "# Routines for linear regression\n",
    "from sklearn import linear_model\n",
    "from sklearn.metrics import mean_squared_error\n",
    "# Set label size for plots\n",
    "matplotlib.rc('xtick', labelsize=14) \n",
    "matplotlib.rc('ytick', labelsize=14)"
   ]
  },
  {
   "cell_type": "code",
   "execution_count": 2,
   "metadata": {},
   "outputs": [],
   "source": [
    "#This next snippet of code loads in the diabetes data. There are 442 data points, each with 10 predictor variables (which we'll denote x) and one response variable (which we'll denote y).\n",
    "data = np.genfromtxt('diabetes-data.csv', delimiter=',')\n",
    "features = ['age', 'sex', 'body mass index', 'blood pressure', \n",
    "            'serum1', 'serum2', 'serum3', 'serum4', 'serum5', 'serum6']\n",
    "x = data[:,0:10] # predictors\n",
    "y = data[:,10] # response variable"
   ]
  },
  {
   "cell_type": "code",
   "execution_count": 16,
   "metadata": {},
   "outputs": [
    {
     "name": "stdout",
     "output_type": "stream",
     "text": [
      "[[ 59.       2.      32.1    ...   4.8598  87.     151.    ]\n",
      " [ 48.       1.      21.6    ...   3.8918  69.      75.    ]\n",
      " [ 72.       2.      30.5    ...   4.6728  85.     141.    ]\n",
      " ...\n",
      " [ 60.       2.      24.9    ...   4.1271  95.     132.    ]\n",
      " [ 36.       1.      30.     ...   5.1299  85.     220.    ]\n",
      " [ 36.       1.      19.6    ...   4.5951  92.      57.    ]]\n"
     ]
    }
   ],
   "source": [
    "\n",
    "print (data)"
   ]
  },
  {
   "cell_type": "code",
   "execution_count": 17,
   "metadata": {},
   "outputs": [
    {
     "name": "stdout",
     "output_type": "stream",
     "text": [
      "['age', 'sex', 'body mass index', 'blood pressure', 'serum1', 'serum2', 'serum3', 'serum4', 'serum5', 'serum6']\n"
     ]
    }
   ],
   "source": [
    "print (features)"
   ]
  },
  {
   "cell_type": "code",
   "execution_count": 19,
   "metadata": {},
   "outputs": [
    {
     "name": "stdout",
     "output_type": "stream",
     "text": [
      "Prediction: \n",
      "Mean squared error: \n"
     ]
    },
    {
     "data": {
      "text/plain": [
       "(None, 5929.884896910383)"
      ]
     },
     "execution_count": 19,
     "metadata": {},
     "output_type": "execute_result"
    }
   ],
   "source": [
    "#Predict y without using x\n",
    "#If we want to predict y without knowledge of x, what value would be predict? The mean value of y.\n",
    "#In this case, the mean squared error (MSE) associated with the prediction is simply the variance of y\n",
    "print (\"Prediction: \"), np.mean(y)\n",
    "print (\"Mean squared error: \"), np.var(y)"
   ]
  },
  {
   "cell_type": "code",
   "execution_count": 22,
   "metadata": {},
   "outputs": [],
   "source": [
    " #Predict y using a single feature of x\n",
    " #To fit a linear regression model, we could directly use the formula we saw in lecture. To make things even easier, this is already implemented in sklearn.linear_model.LinearRegression().   \n",
    "#Here we define a function, one_feature_regression, that takes x and y, along with the index f of a single feature and fits a linear regressor to (x[f],y). It then plots the data along with the resulting line.\n",
    "def one_feature_regression(x,y,f):\n",
    "    if (f < 0) or (f > 9):\n",
    "        print (\"Feature index is out of bounds\")\n",
    "        return\n",
    "    regr = linear_model.LinearRegression()\n",
    "    x1 = x[:,[f]]\n",
    "    regr.fit(x1, y)\n",
    "    # Make predictions using the model\n",
    "    y_pred = regr.predict(x1)\n",
    "    # Plot data points as well as predictions\n",
    "    plt.plot(x1, y, 'bo')\n",
    "    plt.plot(x1, y_pred, 'r-', linewidth=3)\n",
    "    plt.xlabel(features[f], fontsize=14)\n",
    "    plt.ylabel('Progression of disease', fontsize=14)\n",
    "    plt.show()\n",
    "    print (\"Mean squared error: \"), mean_squared_error(y, y_pred)\n",
    "    return regr"
   ]
  },
  {
   "cell_type": "code",
   "execution_count": 24,
   "metadata": {},
   "outputs": [
    {
     "data": {
      "image/png": "[encoded data removed]",
      "text/plain": [
       "<Figure size 432x288 with 1 Axes>"
      ]
     },
     "metadata": {
      "needs_background": "light"
     },
     "output_type": "display_data"
    },
    {
     "name": "stdout",
     "output_type": "stream",
     "text": [
      "Mean squared error: \n",
      "w = \n",
      "b = \n"
     ]
    },
    {
     "data": {
      "text/plain": [
       "(None, -117.77336656656527)"
      ]
     },
     "execution_count": 24,
     "metadata": {},
     "output_type": "execute_result"
    }
   ],
   "source": [
    "regr = one_feature_regression(x,y,2)\n",
    "print (\"w = \"), regr.coef_\n",
    "print (\"b = \"), regr.intercept_"
   ]
  },
  {
   "cell_type": "code",
   "execution_count": 26,
   "metadata": {},
   "outputs": [
    {
     "name": "stdout",
     "output_type": "stream",
     "text": [
      "body mass index\n"
     ]
    }
   ],
   "source": [
    "print (\"body mass index\")"
   ]
  },
  {
   "cell_type": "code",
   "execution_count": 30,
   "metadata": {},
   "outputs": [],
   "source": [
    "#Predict y using a specified subset of features from x\n",
    "#The function feature_subset_regression is just like one_feature_regression, but this time uses a list of features flist.\n",
    "def feature_subset_regression(x,y,flist):\n",
    "    if len(flist) < 1:\n",
    "        print (\"Need at least one feature\")\n",
    "        return\n",
    "    for f in flist:\n",
    "        if (f < 0) or (f > 9):\n",
    "            print (\"Feature index is out of bounds\")\n",
    "            return\n",
    "    regr = linear_model.LinearRegression()\n",
    "    regr.fit(x[:,flist], y)\n",
    "    return regr"
   ]
  },
  {
   "cell_type": "code",
   "execution_count": 31,
   "metadata": {},
   "outputs": [
    {
     "name": "stdout",
     "output_type": "stream",
     "text": [
      "w = \n",
      "b = \n",
      "Mean squared error: \n"
     ]
    },
    {
     "data": {
      "text/plain": [
       "(None, 3205.1900768248533)"
      ]
     },
     "execution_count": 31,
     "metadata": {},
     "output_type": "execute_result"
    }
   ],
   "source": [
    "#Try using just features #2 (body mass index) and #8 (serum5).\n",
    "flist = [2,8]\n",
    "regr = feature_subset_regression(x,y,[2,8])\n",
    "print (\"w = \"), regr.coef_\n",
    "print (\"b = \"), regr.intercept_\n",
    "print (\"Mean squared error: \"), mean_squared_error(y, regr.predict(x[:,flist]))"
   ]
  },
  {
   "cell_type": "code",
   "execution_count": 32,
   "metadata": {},
   "outputs": [
    {
     "name": "stdout",
     "output_type": "stream",
     "text": [
      "w = \n",
      "b = \n",
      "Mean squared error: \n"
     ]
    },
    {
     "data": {
      "text/plain": [
       "(None, 2859.6963475867506)"
      ]
     },
     "execution_count": 32,
     "metadata": {},
     "output_type": "execute_result"
    }
   ],
   "source": [
    "#Finally, use all 10 features.\n",
    "regr = feature_subset_regression(x,y,range(0,10))\n",
    "print (\"w = \"), regr.coef_\n",
    "print (\"b = \"), regr.intercept_\n",
    "print (\"Mean squared error: \"), mean_squared_error(y, regr.predict(x))"
   ]
  },
  {
   "cell_type": "code",
   "execution_count": 33,
   "metadata": {},
   "outputs": [
    {
     "ename": "SyntaxError",
     "evalue": "invalid syntax (<ipython-input-33-6b7baa69638b>, line 1)",
     "output_type": "error",
     "traceback": [
      "\u001b[1;36m  File \u001b[1;32m\"<ipython-input-33-6b7baa69638b>\"\u001b[1;36m, line \u001b[1;32m1\u001b[0m\n\u001b[1;33m    4. Splitting the data into a training and test set¶\u001b[0m\n\u001b[1;37m               ^\u001b[0m\n\u001b[1;31mSyntaxError\u001b[0m\u001b[1;31m:\u001b[0m invalid syntax\n"
     ]
    }
   ],
   "source": [
    "#4. Splitting the data into a training and test set¶\n",
    "In the experiments above, every model was fit to the entire data set and its mean squared error was evaluated on this same data set. This methodology would not, in general, yield accurate estimates of future error. In this specific case, however, the discrepancy might not be too bad because the data set is quite large relative to the number of features.\n",
    "\n",
    "To investigate this further, we define a procedure split_data that partitions the data set into separate training and test sets. It is invoked as follows:\n",
    "\n",
    "trainx, trainy, testx, testy = split_data(n_train)\n",
    "Here:\n",
    "\n",
    "n_train is the desired number of training points\n",
    "trainx and trainy are the training points and response values\n",
    "testx and testy are the test points and response values\n",
    "The split is done randomly, but the random seed is fixed, and thus the same split is produced if the procedure is called repeatedly with the same n_train parameter"
   ]
  },
  {
   "cell_type": "code",
   "execution_count": 35,
   "metadata": {},
   "outputs": [],
   "source": [
    "def split_data(n_train):\n",
    "    if (n_train < 0) or (n_train > 442):\n",
    "        print (\"Invalid number of training points\")\n",
    "        return\n",
    "    np.random.seed(0)\n",
    "    perm = np.random.permutation(442)\n",
    "    training_indices = perm[range(0,n_train)]\n",
    "    test_indices = perm[range(n_train,442)]\n",
    "    trainx = x[training_indices,:]\n",
    "    trainy = y[training_indices]\n",
    "    testx = x[test_indices,:]\n",
    "    testy = y[test_indices]\n",
    "    return trainx, trainy, testx, testy"
   ]
  },
  {
   "cell_type": "code",
   "execution_count": 45,
   "metadata": {},
   "outputs": [
    {
     "name": "stdout",
     "output_type": "stream",
     "text": [
      "w = \n",
      "b = \n",
      "(array([[ 54.    ,   2.    ,  36.1   , 115.    , 163.    ,  98.4   ,\n",
      "         43.    ,   4.    ,   4.6821, 101.    ],\n",
      "       [ 45.    ,   1.    ,  32.    , 110.    , 224.    , 134.2   ,\n",
      "         45.    ,   5.    ,   5.4116,  93.    ],\n",
      "       [ 59.    ,   2.    ,  27.2   , 107.    , 158.    , 102.    ,\n",
      "         39.    ,   4.    ,   4.4427,  93.    ],\n",
      "       [ 45.    ,   1.    ,  24.2   ,  83.    , 177.    , 118.4   ,\n",
      "         45.    ,   4.    ,   4.2195,  82.    ],\n",
      "       [ 42.    ,   1.    ,  30.6   , 121.    , 176.    ,  92.8   ,\n",
      "         69.    ,   3.    ,   4.2627,  89.    ],\n",
      "       [ 43.    ,   1.    ,  35.4   ,  93.    , 185.    , 100.2   ,\n",
      "         44.    ,   4.    ,   5.3181, 101.    ],\n",
      "       [ 53.    ,   1.    ,  23.7   ,  92.    , 186.    , 109.2   ,\n",
      "         62.    ,   3.    ,   4.3041,  81.    ],\n",
      "       [ 65.    ,   2.    ,  28.5   , 109.    , 201.    , 123.    ,\n",
      "         46.    ,   4.    ,   5.0752,  96.    ],\n",
      "       [ 34.    ,   1.    ,  31.4   ,  87.    , 149.    ,  93.8   ,\n",
      "         46.    ,   3.    ,   3.8286,  77.    ],\n",
      "       [ 40.    ,   1.    ,  30.7   ,  99.    , 177.    ,  85.4   ,\n",
      "         50.    ,   4.    ,   5.3375,  85.    ],\n",
      "       [ 50.    ,   1.    ,  21.    ,  88.    , 140.    ,  71.8   ,\n",
      "         35.    ,   4.    ,   5.112 ,  71.    ],\n",
      "       [ 57.    ,   2.    ,  30.7   ,  90.    , 204.    , 147.8   ,\n",
      "         34.    ,   6.    ,   4.7095,  93.    ],\n",
      "       [ 55.    ,   2.    ,  22.9   ,  81.    , 123.    ,  67.2   ,\n",
      "         41.    ,   3.    ,   4.3041,  88.    ],\n",
      "       [ 43.    ,   1.    ,  22.1   ,  66.    , 134.    ,  77.2   ,\n",
      "         45.    ,   3.    ,   4.0775,  80.    ],\n",
      "       [ 66.    ,   2.    ,  34.6   , 115.    , 204.    , 139.4   ,\n",
      "         36.    ,   6.    ,   4.9628, 109.    ],\n",
      "       [ 25.    ,   2.    ,  24.3   ,  95.    , 162.    ,  98.6   ,\n",
      "         54.    ,   3.    ,   3.8501,  87.    ],\n",
      "       [ 30.    ,   1.    ,  20.9   , 104.    , 152.    ,  83.8   ,\n",
      "         47.    ,   3.    ,   4.6634,  97.    ],\n",
      "       [ 48.    ,   1.    ,  21.6   ,  87.    , 183.    , 103.2   ,\n",
      "         70.    ,   3.    ,   3.8918,  69.    ],\n",
      "       [ 22.    ,   1.    ,  18.6   ,  97.    , 114.    ,  57.6   ,\n",
      "         46.    ,   2.    ,   3.9512,  83.    ],\n",
      "       [ 57.    ,   1.    ,  30.1   , 117.    , 202.    , 139.6   ,\n",
      "         42.    ,   5.    ,   4.625 , 120.    ]]), array([321., 215., 127.,  64., 175., 275., 179., 232., 142.,  99., 252.,\n",
      "       174., 129.,  74., 264.,  49.,  86.,  75., 101., 155.]), array([[ 40.    ,   2.    ,  29.    , ...,   2.77  ,   4.3041,  95.    ],\n",
      "       [ 46.    ,   1.    ,  27.4   , ...,   3.    ,   4.8283,  90.    ],\n",
      "       [ 63.    ,   2.    ,  24.1   , ...,   4.    ,   4.9345,  82.    ],\n",
      "       ...,\n",
      "       [ 65.    ,   1.    ,  24.4   , ...,   6.    ,   5.5094, 124.    ],\n",
      "       [ 27.    ,   1.    ,  19.6   , ...,   3.    ,   4.4427,  71.    ],\n",
      "       [ 60.    ,   2.    ,  33.    , ...,   5.    ,   5.4467, 112.    ]]), array([170., 276., 110., 136.,  68., 128., 103.,  93., 191., 196., 217.,\n",
      "       181., 168., 200., 219., 281., 151., 257.,  49., 198.,  96., 179.,\n",
      "        95., 198., 244.,  89., 214., 182.,  84., 270., 156., 138., 113.,\n",
      "       131., 195., 171., 122.,  61., 230., 235.,  52., 121., 144., 107.,\n",
      "       132., 302.,  53., 317., 137.,  57.,  98., 170.,  88.,  90.,  67.,\n",
      "       163., 104., 186., 180., 283., 141., 150.,  47., 297., 104.,  49.,\n",
      "       103., 142.,  59.,  85., 137.,  53.,  51., 197., 135.,  72., 208.,\n",
      "       237., 145., 110., 292.,  97., 197., 158., 163.,  63., 192., 233.,\n",
      "        68., 160., 178.,  68., 109.,  94., 118., 275., 275., 127., 281.,\n",
      "        71.,  42.,  71., 128., 272., 135.,  51., 220., 167.,  78., 131.,\n",
      "       212., 182., 174., 259.,  77.,  91., 310.,  84., 134., 102., 128.,\n",
      "       306., 245., 201., 183., 111.,  96., 125., 182., 177.,  48.,  97.,\n",
      "       259., 288., 242.,  69.,  31., 154., 150.,  52., 261., 118., 102.,\n",
      "       139.,  51.,  58., 144., 178.,  97.,  78., 129., 258., 124., 198.,\n",
      "       185.,  66., 237., 178., 275., 268., 242., 200., 214., 246., 236.,\n",
      "        85., 114.,  93.,  99.,  72., 270., 111.,  83.,  87.,  42., 172.,\n",
      "        65., 259., 279., 141., 144., 220.,  90., 101.,  53.,  67.,  72.,\n",
      "       121., 303., 232., 140., 190., 221.,  71., 116., 111., 280., 233.,\n",
      "        78., 150., 283.,  64., 140.,  65., 225., 206.,  63., 296., 173.,\n",
      "        85., 141.,  50.,  25., 153.,  55., 139., 336.,  73.,  95., 109.,\n",
      "        44., 180., 263., 148.,  79.,  65., 102., 220., 277., 246., 200.,\n",
      "       262., 191.,  97., 184.,  85., 248., 150., 268.,  59.,  70.,  88.,\n",
      "       100., 190., 113.,  66., 243., 185., 262.,  48., 160., 217., 210.,\n",
      "       132., 257., 104., 126., 292., 166.,  83.,  81., 144., 281.,  72.,\n",
      "        39., 109.,  60., 258., 178., 168.,  87.,  77., 216., 206., 142.,\n",
      "       161., 265.,  60., 200., 265., 272., 146.,  94.,  55.,  69., 138.,\n",
      "       258., 143., 172.,  89.,  69., 199.,  55.,  45., 265.,  91., 170.,\n",
      "        55., 202., 155.,  77.,  77.,  71., 123.,  84., 252.,  52.,  40.,\n",
      "       274., 143., 245.,  92., 151.,  39., 235.,  92., 253.,  94.,  81.,\n",
      "       346.,  90., 181., 162., 277., 152., 178., 124.,  75., 263., 202.,\n",
      "       200., 108.,  96.,  60.,  72., 107.,  54., 158., 152., 220., 308.,\n",
      "       249., 222.,  65., 173.,  88.,  72., 164.,  52., 115., 200.,  90.,\n",
      "       248.,  37., 230.,  63., 273.,  61.,  53., 189., 241., 118., 252.,\n",
      "       104., 219., 115., 332., 131., 185.,  63., 131.,  88., 187., 196.,\n",
      "        59., 341., 109., 101., 113.,  80., 242., 168., 128., 233., 209.,\n",
      "       225.,  83., 214.,  96., 129.,  47., 229., 293.,  74., 202., 164.,\n",
      "       202.,  59.,  91., 120., 151., 310.,  90., 116., 147.,  43.,  42.,\n",
      "        48., 134.,  84.,  71.,  64.,  70., 310., 311., 122., 243., 248.,\n",
      "        91., 281., 142., 295.]))\n",
      "Mean squared error: \n"
     ]
    },
    {
     "data": {
      "text/plain": [
       "(None, 2859.6963475867506)"
      ]
     },
     "execution_count": 45,
     "metadata": {},
     "output_type": "execute_result"
    }
   ],
   "source": [
    "#n_train = 20\n",
    "regr = feature_subset_regression(x,y,range(0,10))\n",
    "print (\"w = \"), regr.coef_\n",
    "print (\"b = \"), regr.intercept_\n",
    "\n",
    "print (split_data(20))\n",
    "print (\"Mean squared error: \"), mean_squared_error(y, regr.predict(x))\n"
   ]
  },
  {
   "cell_type": "code",
   "execution_count": 52,
   "metadata": {},
   "outputs": [
    {
     "name": "stdout",
     "output_type": "stream",
     "text": [
      "Mean squared error: \n"
     ]
    },
    {
     "data": {
      "text/plain": [
       "(None, 2859.6963475867506)"
      ]
     },
     "execution_count": 52,
     "metadata": {},
     "output_type": "execute_result"
    }
   ],
   "source": [
    "def feature_subset_regression(x,y,flist):\n",
    "    if len(flist) < 1:\n",
    "        print (\"Need at least one feature\")\n",
    "        return\n",
    "    for f in flist:\n",
    "        if (f < 0) or (f > 9):\n",
    "            print (\"Feature index is out of bounds\")\n",
    "            return\n",
    "        regr = linear_model.LinearRegression()\n",
    "        regr.fit(x[:,flist], y)\n",
    "    return regr\n",
    "print (\"Mean squared error: \"), mean_squared_error(y, regr.predict(x))"
   ]
  },
  {
   "cell_type": "code",
   "execution_count": 75,
   "metadata": {},
   "outputs": [
    {
     "name": "stdout",
     "output_type": "stream",
     "text": [
      "(array([[ 54.    ,   2.    ,  36.1   , 115.    , 163.    ,  98.4   ,\n",
      "         43.    ,   4.    ,   4.6821, 101.    ],\n",
      "       [ 45.    ,   1.    ,  32.    , 110.    , 224.    , 134.2   ,\n",
      "         45.    ,   5.    ,   5.4116,  93.    ],\n",
      "       [ 59.    ,   2.    ,  27.2   , 107.    , 158.    , 102.    ,\n",
      "         39.    ,   4.    ,   4.4427,  93.    ],\n",
      "       [ 45.    ,   1.    ,  24.2   ,  83.    , 177.    , 118.4   ,\n",
      "         45.    ,   4.    ,   4.2195,  82.    ],\n",
      "       [ 42.    ,   1.    ,  30.6   , 121.    , 176.    ,  92.8   ,\n",
      "         69.    ,   3.    ,   4.2627,  89.    ],\n",
      "       [ 43.    ,   1.    ,  35.4   ,  93.    , 185.    , 100.2   ,\n",
      "         44.    ,   4.    ,   5.3181, 101.    ],\n",
      "       [ 53.    ,   1.    ,  23.7   ,  92.    , 186.    , 109.2   ,\n",
      "         62.    ,   3.    ,   4.3041,  81.    ],\n",
      "       [ 65.    ,   2.    ,  28.5   , 109.    , 201.    , 123.    ,\n",
      "         46.    ,   4.    ,   5.0752,  96.    ],\n",
      "       [ 34.    ,   1.    ,  31.4   ,  87.    , 149.    ,  93.8   ,\n",
      "         46.    ,   3.    ,   3.8286,  77.    ],\n",
      "       [ 40.    ,   1.    ,  30.7   ,  99.    , 177.    ,  85.4   ,\n",
      "         50.    ,   4.    ,   5.3375,  85.    ],\n",
      "       [ 50.    ,   1.    ,  21.    ,  88.    , 140.    ,  71.8   ,\n",
      "         35.    ,   4.    ,   5.112 ,  71.    ],\n",
      "       [ 57.    ,   2.    ,  30.7   ,  90.    , 204.    , 147.8   ,\n",
      "         34.    ,   6.    ,   4.7095,  93.    ],\n",
      "       [ 55.    ,   2.    ,  22.9   ,  81.    , 123.    ,  67.2   ,\n",
      "         41.    ,   3.    ,   4.3041,  88.    ],\n",
      "       [ 43.    ,   1.    ,  22.1   ,  66.    , 134.    ,  77.2   ,\n",
      "         45.    ,   3.    ,   4.0775,  80.    ],\n",
      "       [ 66.    ,   2.    ,  34.6   , 115.    , 204.    , 139.4   ,\n",
      "         36.    ,   6.    ,   4.9628, 109.    ],\n",
      "       [ 25.    ,   2.    ,  24.3   ,  95.    , 162.    ,  98.6   ,\n",
      "         54.    ,   3.    ,   3.8501,  87.    ],\n",
      "       [ 30.    ,   1.    ,  20.9   , 104.    , 152.    ,  83.8   ,\n",
      "         47.    ,   3.    ,   4.6634,  97.    ],\n",
      "       [ 48.    ,   1.    ,  21.6   ,  87.    , 183.    , 103.2   ,\n",
      "         70.    ,   3.    ,   3.8918,  69.    ],\n",
      "       [ 22.    ,   1.    ,  18.6   ,  97.    , 114.    ,  57.6   ,\n",
      "         46.    ,   2.    ,   3.9512,  83.    ],\n",
      "       [ 57.    ,   1.    ,  30.1   , 117.    , 202.    , 139.6   ,\n",
      "         42.    ,   5.    ,   4.625 , 120.    ],\n",
      "       [ 40.    ,   2.    ,  29.    , 115.    ,  97.    ,  47.2   ,\n",
      "         35.    ,   2.77  ,   4.3041,  95.    ],\n",
      "       [ 46.    ,   1.    ,  27.4   ,  78.    , 171.    ,  88.    ,\n",
      "         58.    ,   3.    ,   4.8283,  90.    ],\n",
      "       [ 63.    ,   2.    ,  24.1   , 111.    , 184.    , 112.2   ,\n",
      "         44.    ,   4.    ,   4.9345,  82.    ],\n",
      "       [ 50.    ,   1.    ,  31.8   ,  82.    , 136.    ,  69.2   ,\n",
      "         55.    ,   2.    ,   4.0775,  85.    ],\n",
      "       [ 28.    ,   2.    ,  31.5   ,  83.    , 228.    , 149.4   ,\n",
      "         38.    ,   6.    ,   5.3132,  83.    ],\n",
      "       [ 53.    ,   1.    ,  28.    ,  88.    , 233.    , 143.8   ,\n",
      "         58.    ,   4.    ,   5.0499,  91.    ],\n",
      "       [ 62.    ,   1.    ,  22.5   , 125.    , 215.    ,  99.    ,\n",
      "         98.    ,   2.    ,   4.4998,  95.    ],\n",
      "       [ 53.    ,   1.    ,  22.2   ,  78.    , 164.    ,  81.    ,\n",
      "         70.    ,   2.    ,   4.1744, 101.    ],\n",
      "       [ 54.    ,   1.    ,  26.8   , 108.    , 176.    ,  80.6   ,\n",
      "         67.    ,   3.    ,   4.9558, 106.    ],\n",
      "       [ 49.    ,   2.    ,  28.8   ,  92.    , 207.    , 140.    ,\n",
      "         44.    ,   5.    ,   4.7449,  92.    ],\n",
      "       [ 61.    ,   2.    ,  26.1   , 126.    , 215.    , 129.8   ,\n",
      "         57.    ,   4.    ,   4.9488,  96.    ],\n",
      "       [ 44.    ,   1.    ,  21.5   ,  85.    , 157.    ,  92.2   ,\n",
      "         55.    ,   3.    ,   3.8918,  84.    ],\n",
      "       [ 28.    ,   1.    ,  25.4   ,  93.    , 141.    ,  79.    ,\n",
      "         49.    ,   3.    ,   4.1744,  91.    ],\n",
      "       [ 19.    ,   1.    ,  25.3   ,  83.    , 225.    , 156.6   ,\n",
      "         46.    ,   5.    ,   4.7185,  84.    ],\n",
      "       [ 61.    ,   1.    ,  25.8   ,  90.    , 280.    , 195.4   ,\n",
      "         55.    ,   5.    ,   4.9972,  90.    ],\n",
      "       [ 53.    ,   1.    ,  28.3   , 101.    , 179.    , 107.    ,\n",
      "         48.    ,   4.    ,   4.7875, 101.    ],\n",
      "       [ 42.    ,   1.    ,  24.9   ,  91.    , 204.    , 141.8   ,\n",
      "         38.    ,   5.    ,   4.7958,  89.    ],\n",
      "       [ 58.    ,   2.    ,  25.5   , 112.    , 163.    , 110.6   ,\n",
      "         29.    ,   6.    ,   4.7622,  86.    ],\n",
      "       [ 53.    ,   1.    ,  26.5   ,  97.    , 193.    , 122.4   ,\n",
      "         58.    ,   3.    ,   4.1431,  99.    ],\n",
      "       [ 52.    ,   1.    ,  29.5   , 104.33  , 211.    , 132.8   ,\n",
      "         49.    ,   4.31  ,   4.9836,  98.    ],\n",
      "       [ 45.    ,   1.    ,  20.3   ,  74.33  , 190.    , 126.2   ,\n",
      "         49.    ,   3.88  ,   4.3041,  79.    ],\n",
      "       [ 33.    ,   2.    ,  25.4   , 102.    , 206.    , 141.    ,\n",
      "         39.    ,   5.    ,   4.8675, 105.    ],\n",
      "       [ 56.    ,   1.    ,  25.7   ,  80.    , 244.    , 151.6   ,\n",
      "         59.    ,   4.    ,   5.118 ,  95.    ],\n",
      "       [ 63.    ,   1.    ,  26.    ,  85.67  , 155.    ,  78.2   ,\n",
      "         46.    ,   3.37  ,   5.037 ,  97.    ],\n",
      "       [ 51.    ,   2.    ,  29.2   , 107.    , 187.    , 139.    ,\n",
      "         32.    ,   6.    ,   4.382 ,  95.    ],\n",
      "       [ 67.    ,   1.    ,  20.7   ,  83.    , 170.    ,  99.8   ,\n",
      "         59.    ,   3.    ,   4.0254,  77.    ],\n",
      "       [ 61.    ,   1.    ,  24.6   , 101.    , 209.    , 106.8   ,\n",
      "         77.    ,   3.    ,   4.8363,  88.    ],\n",
      "       [ 35.    ,   1.    ,  28.7   ,  97.    , 204.    , 126.8   ,\n",
      "         64.    ,   3.    ,   4.1897,  93.    ],\n",
      "       [ 48.    ,   2.    ,  23.3   ,  89.33  , 212.    , 142.8   ,\n",
      "         46.    ,   4.61  ,   4.7536,  98.    ],\n",
      "       [ 48.    ,   1.    ,  29.5   , 131.    , 207.    , 132.2   ,\n",
      "         47.    ,   4.    ,   4.9345, 106.    ],\n",
      "       [ 60.    ,   2.    ,  24.3   , 103.    , 141.    ,  86.6   ,\n",
      "         33.    ,   4.    ,   4.6728,  78.    ],\n",
      "       [ 36.    ,   2.    ,  22.    ,  90.    , 160.    ,  99.6   ,\n",
      "         50.    ,   3.    ,   3.9512,  82.    ],\n",
      "       [ 43.    ,   1.    ,  28.1   , 121.    , 192.    , 121.    ,\n",
      "         60.    ,   3.    ,   4.0073,  93.    ],\n",
      "       [ 61.    ,   2.    ,  25.6   ,  85.    , 184.    , 116.2   ,\n",
      "         39.    ,   5.    ,   4.9698,  98.    ],\n",
      "       [ 47.    ,   1.    ,  30.4   , 120.    , 199.    , 120.    ,\n",
      "         46.    ,   4.    ,   5.1059,  87.    ],\n",
      "       [ 34.    ,   2.    ,  24.7   , 118.    , 254.    , 184.2   ,\n",
      "         39.    ,   7.    ,   5.037 ,  81.    ],\n",
      "       [ 42.    ,   1.    ,  29.2   ,  93.    , 249.    , 174.2   ,\n",
      "         45.    ,   6.    ,   5.0039,  92.    ],\n",
      "       [ 29.    ,   1.    ,  26.    ,  83.    , 141.    ,  65.2   ,\n",
      "         64.    ,   2.    ,   4.0775,  83.    ],\n",
      "       [ 68.    ,   1.    ,  25.9   ,  93.    , 253.    , 181.2   ,\n",
      "         53.    ,   5.    ,   4.5433,  98.    ],\n",
      "       [ 60.    ,   2.    ,  27.5   , 106.    , 229.    , 143.8   ,\n",
      "         51.    ,   4.    ,   5.1417,  91.    ],\n",
      "       [ 37.    ,   1.    ,  30.2   ,  87.    , 166.    ,  96.    ,\n",
      "         40.    ,   4.15  ,   5.0106,  87.    ],\n",
      "       [ 47.    ,   1.    ,  28.6   ,  97.    , 164.    ,  90.6   ,\n",
      "         56.    ,   3.    ,   4.4659,  88.    ],\n",
      "       [ 56.    ,   1.    ,  31.    ,  78.67  , 187.    , 141.4   ,\n",
      "         34.    ,   5.5   ,   4.0604,  90.    ],\n",
      "       [ 53.    ,   2.    ,  24.4   ,  92.    , 214.    , 146.    ,\n",
      "         50.    ,   4.    ,   4.4998,  97.    ],\n",
      "       [ 62.    ,   1.    ,  32.    ,  88.    , 172.    ,  69.    ,\n",
      "         38.    ,   4.    ,   5.7838, 100.    ],\n",
      "       [ 23.    ,   1.    ,  29.    ,  90.    , 216.    , 131.4   ,\n",
      "         65.    ,   3.    ,   4.585 ,  91.    ],\n",
      "       [ 46.    ,   1.    ,  20.6   ,  73.    , 172.    , 107.    ,\n",
      "         51.    ,   3.    ,   4.2485,  80.    ],\n",
      "       [ 41.    ,   1.    ,  30.8   ,  81.    , 214.    , 152.    ,\n",
      "         28.    ,   7.6   ,   5.1358, 123.    ],\n",
      "       [ 26.    ,   2.    ,  30.3   ,  89.    , 218.    , 152.2   ,\n",
      "         31.    ,   7.    ,   5.1591,  82.    ],\n",
      "       [ 36.    ,   1.    ,  19.6   ,  71.    , 250.    , 133.2   ,\n",
      "         97.    ,   3.    ,   4.5951,  92.    ],\n",
      "       [ 52.    ,   1.    ,  24.    ,  83.    , 167.    ,  86.6   ,\n",
      "         71.    ,   2.    ,   3.8501,  94.    ],\n",
      "       [ 66.    ,   2.    ,  24.    ,  98.    , 236.    , 146.4   ,\n",
      "         58.    ,   4.    ,   5.0626,  96.    ],\n",
      "       [ 59.    ,   2.    ,  23.6   ,  73.    , 180.    , 107.4   ,\n",
      "         51.    ,   4.    ,   4.6821,  84.    ],\n",
      "       [ 67.    ,   1.    ,  29.8   ,  80.    , 172.    ,  93.4   ,\n",
      "         63.    ,   3.    ,   4.3567,  82.    ],\n",
      "       [ 39.    ,   2.    ,  26.9   ,  93.    , 136.    ,  75.4   ,\n",
      "         48.    ,   3.    ,   4.1431,  99.    ],\n",
      "       [ 36.    ,   2.    ,  24.1   , 112.    , 193.    , 125.    ,\n",
      "         35.    ,   6.    ,   5.1059,  95.    ],\n",
      "       [ 47.    ,   2.    ,  24.9   ,  75.    , 225.    , 166.    ,\n",
      "         42.    ,   5.    ,   4.4427, 102.    ],\n",
      "       [ 41.    ,   2.    ,  32.    , 109.    , 251.    , 170.6   ,\n",
      "         49.    ,   5.    ,   5.0562, 103.    ],\n",
      "       [ 62.    ,   2.    ,  33.9   , 101.    , 221.    , 156.4   ,\n",
      "         35.    ,   6.    ,   4.9972, 103.    ],\n",
      "       [ 52.    ,   1.    ,  28.8   , 113.    , 280.    , 174.    ,\n",
      "         67.    ,   4.    ,   5.273 ,  86.    ],\n",
      "       [ 50.    ,   1.    ,  26.1   , 109.    , 243.    , 160.6   ,\n",
      "         62.    ,   4.    ,   4.625 ,  89.    ],\n",
      "       [ 64.    ,   2.    ,  27.3   , 109.    , 186.    , 107.6   ,\n",
      "         38.    ,   5.    ,   5.3083,  99.    ],\n",
      "       [ 55.    ,   2.    ,  24.5   ,  84.    , 179.    , 105.8   ,\n",
      "         66.    ,   3.    ,   3.5835,  87.    ],\n",
      "       [ 54.    ,   2.    ,  27.7   , 113.    , 200.    , 128.4   ,\n",
      "         37.    ,   5.    ,   5.1533, 113.    ],\n",
      "       [ 29.    ,   2.    ,  18.1   ,  73.    , 158.    ,  99.    ,\n",
      "         41.    ,   4.    ,   4.4998,  78.    ],\n",
      "       [ 49.    ,   1.    ,  19.8   ,  88.    , 188.    , 114.8   ,\n",
      "         57.    ,   3.    ,   4.3944,  93.    ],\n",
      "       [ 28.    ,   1.    ,  30.4   ,  85.    , 198.    , 115.6   ,\n",
      "         67.    ,   3.    ,   4.3438,  80.    ],\n",
      "       [ 37.    ,   2.    ,  27.7   ,  93.    , 180.    , 119.4   ,\n",
      "         30.    ,   6.    ,   5.0304,  88.    ],\n",
      "       [ 34.    ,   1.    ,  25.5   ,  93.    , 218.    , 144.    ,\n",
      "         57.    ,   4.    ,   4.4427,  88.    ],\n",
      "       [ 52.    ,   2.    ,  26.6   , 111.    , 209.    , 126.4   ,\n",
      "         61.    ,   3.    ,   4.6821, 109.    ],\n",
      "       [ 19.    ,   1.    ,  19.2   ,  87.    , 124.    ,  54.    ,\n",
      "         57.    ,   2.    ,   4.1744,  90.    ],\n",
      "       [ 56.    ,   2.    ,  23.1   , 104.    , 181.    , 116.4   ,\n",
      "         47.    ,   4.    ,   4.4773,  79.    ],\n",
      "       [ 47.    ,   2.    ,  26.5   ,  70.    , 181.    , 104.8   ,\n",
      "         63.    ,   3.    ,   4.1897,  70.    ],\n",
      "       [ 67.    ,   2.    ,  28.3   ,  93.    , 204.    , 132.2   ,\n",
      "         49.    ,   4.    ,   4.7362,  92.    ],\n",
      "       [ 50.    ,   1.    ,  23.    , 101.    , 192.    , 125.4   ,\n",
      "         52.    ,   4.    ,   4.2905,  80.    ],\n",
      "       [ 54.    ,   1.    ,  22.6   ,  90.    , 183.    , 104.2   ,\n",
      "         64.    ,   3.    ,   4.3041,  92.    ],\n",
      "       [ 57.    ,   2.    ,  29.4   , 109.    , 160.    ,  87.6   ,\n",
      "         31.    ,   5.    ,   5.3327,  92.    ],\n",
      "       [ 69.    ,   1.    ,  37.    , 103.    , 207.    , 131.4   ,\n",
      "         55.    ,   4.    ,   4.6347,  90.    ],\n",
      "       [ 58.    ,   2.    ,  29.    ,  85.    , 156.    , 109.2   ,\n",
      "         36.    ,   4.    ,   3.989 ,  86.    ],\n",
      "       [ 60.    ,   2.    ,  32.1   ,  83.    , 179.    , 119.4   ,\n",
      "         42.    ,   4.    ,   4.4773,  94.    ]]), array([321., 215., 127.,  64., 175., 275., 179., 232., 142.,  99., 252.,\n",
      "       174., 129.,  74., 264.,  49.,  86.,  75., 101., 155., 170., 276.,\n",
      "       110., 136.,  68., 128., 103.,  93., 191., 196., 217., 181., 168.,\n",
      "       200., 219., 281., 151., 257.,  49., 198.,  96., 179.,  95., 198.,\n",
      "       244.,  89., 214., 182.,  84., 270., 156., 138., 113., 131., 195.,\n",
      "       171., 122.,  61., 230., 235.,  52., 121., 144., 107., 132., 302.,\n",
      "        53., 317., 137.,  57.,  98., 170.,  88.,  90.,  67., 163., 104.,\n",
      "       186., 180., 283., 141., 150.,  47., 297., 104.,  49., 103., 142.,\n",
      "        59.,  85., 137.,  53.,  51., 197., 135.,  72., 208., 237., 145.,\n",
      "       110.]), array([[ 51.    ,   1.    ,  25.2   , ...,   5.    ,   4.8978,  90.    ],\n",
      "       [ 23.    ,   1.    ,  22.6   , ...,   2.    ,   4.1897,  68.    ],\n",
      "       [ 63.    ,   2.    ,  25.5   , ...,   5.    ,   5.9506,  87.    ],\n",
      "       ...,\n",
      "       [ 65.    ,   1.    ,  24.4   , ...,   6.    ,   5.5094, 124.    ],\n",
      "       [ 27.    ,   1.    ,  19.6   , ...,   3.    ,   4.4427,  71.    ],\n",
      "       [ 60.    ,   2.    ,  33.    , ...,   5.    ,   5.4467, 112.    ]]), array([292.,  97., 197., 158., 163.,  63., 192., 233.,  68., 160., 178.,\n",
      "        68., 109.,  94., 118., 275., 275., 127., 281.,  71.,  42.,  71.,\n",
      "       128., 272., 135.,  51., 220., 167.,  78., 131., 212., 182., 174.,\n",
      "       259.,  77.,  91., 310.,  84., 134., 102., 128., 306., 245., 201.,\n",
      "       183., 111.,  96., 125., 182., 177.,  48.,  97., 259., 288., 242.,\n",
      "        69.,  31., 154., 150.,  52., 261., 118., 102., 139.,  51.,  58.,\n",
      "       144., 178.,  97.,  78., 129., 258., 124., 198., 185.,  66., 237.,\n",
      "       178., 275., 268., 242., 200., 214., 246., 236.,  85., 114.,  93.,\n",
      "        99.,  72., 270., 111.,  83.,  87.,  42., 172.,  65., 259., 279.,\n",
      "       141., 144., 220.,  90., 101.,  53.,  67.,  72., 121., 303., 232.,\n",
      "       140., 190., 221.,  71., 116., 111., 280., 233.,  78., 150., 283.,\n",
      "        64., 140.,  65., 225., 206.,  63., 296., 173.,  85., 141.,  50.,\n",
      "        25., 153.,  55., 139., 336.,  73.,  95., 109.,  44., 180., 263.,\n",
      "       148.,  79.,  65., 102., 220., 277., 246., 200., 262., 191.,  97.,\n",
      "       184.,  85., 248., 150., 268.,  59.,  70.,  88., 100., 190., 113.,\n",
      "        66., 243., 185., 262.,  48., 160., 217., 210., 132., 257., 104.,\n",
      "       126., 292., 166.,  83.,  81., 144., 281.,  72.,  39., 109.,  60.,\n",
      "       258., 178., 168.,  87.,  77., 216., 206., 142., 161., 265.,  60.,\n",
      "       200., 265., 272., 146.,  94.,  55.,  69., 138., 258., 143., 172.,\n",
      "        89.,  69., 199.,  55.,  45., 265.,  91., 170.,  55., 202., 155.,\n",
      "        77.,  77.,  71., 123.,  84., 252.,  52.,  40., 274., 143., 245.,\n",
      "        92., 151.,  39., 235.,  92., 253.,  94.,  81., 346.,  90., 181.,\n",
      "       162., 277., 152., 178., 124.,  75., 263., 202., 200., 108.,  96.,\n",
      "        60.,  72., 107.,  54., 158., 152., 220., 308., 249., 222.,  65.,\n",
      "       173.,  88.,  72., 164.,  52., 115., 200.,  90., 248.,  37., 230.,\n",
      "        63., 273.,  61.,  53., 189., 241., 118., 252., 104., 219., 115.,\n",
      "       332., 131., 185.,  63., 131.,  88., 187., 196.,  59., 341., 109.,\n",
      "       101., 113.,  80., 242., 168., 128., 233., 209., 225.,  83., 214.,\n",
      "        96., 129.,  47., 229., 293.,  74., 202., 164., 202.,  59.,  91.,\n",
      "       120., 151., 310.,  90., 116., 147.,  43.,  42.,  48., 134.,  84.,\n",
      "        71.,  64.,  70., 310., 311., 122., 243., 248.,  91., 281., 142.,\n",
      "       295.]))\n",
      "w = \n",
      "b = \n",
      "Mean squared error: \n"
     ]
    },
    {
     "data": {
      "text/plain": [
       "(None, 2859.6963475867506)"
      ]
     },
     "execution_count": 75,
     "metadata": {},
     "output_type": "execute_result"
    }
   ],
   "source": [
    "print (split_data(100))\n",
    "def feature_subset_regression(x,y,flist):\n",
    "    if len(flist) < 1:\n",
    "        print (\"Need at least one feature\")\n",
    "        return\n",
    "    for f in flist:\n",
    "        if (f < 0) or (f > 9):\n",
    "            print (\"Feature index is out of bounds\")\n",
    "            return\n",
    "    regr = linear_model.LinearRegression()\n",
    "    regr.fit(x[:,flist], y)\n",
    "    return regr\n",
    "regr = feature_subset_regression(x,y,range(0,10))\n",
    "print (\"w = \"), regr.coef_\n",
    "print (\"b = \"), regr.intercept_\n",
    "print (\"Mean squared error: \"), mean_squared_error(y, regr.predict(x))\n",
    "               "
   ]
  },
  {
   "cell_type": "code",
   "execution_count": null,
   "metadata": {},
   "outputs": [],
   "source": []
  }
 ],
 "metadata": {
  "kernelspec": {
   "display_name": "Python 3",
   "language": "python",
   "name": "python3"
  },
  "language_info": {
   "codemirror_mode": {
    "name": "ipython",
    "version": 3
   },
   "file_extension": ".py",
   "mimetype": "text/x-python",
   "name": "python",
   "nbconvert_exporter": "python",
   "pygments_lexer": "ipython3",
   "version": "3.7.3"
  }
 },
 "nbformat": 4,
 "nbformat_minor": 2
}
